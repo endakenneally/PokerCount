# Very simple python program which will be used to keep track of poker winnings/losses
# Used mainly to practice fundamentals of python that we have been learning through
# our modules. Will email the results to my email 

import smtplib,ssl
from datetime import datetime


port = 465
smtp_server = "smtp.gmail.com"
sender_email = "endapokercount@gmail.com"
receiver_email = "endakenneally2@gmail.com"
password = #Passsword Here

def trackpoker(winloss,amount):
    # Open the file
    file = open('poker.txt','a+')
    
    # Start initial variables
    total = 0
    current = datetime.now()
    
    # Edit the time so it can be inputted into file
    currentstr = current.strftime("%d/%m/%Y-%H:%M:%S")
    
    # Append the inputted value into the system
    file.write(currentstr + " " + winloss + " " + amount +"\n")
    
    # Return to the start of the file
    file.seek(0)
    lines = file.readlines()
    for l in lines:
            # Split into two variables
            t,a,b = l.split(" ")
            b = float(b)
            
            if a == 'minus':
                total -= b 
            else:
                total += b
    
    
    # Reset the time
    current = datetime.now()
    currentstr = current.strftime("%d/%m/%Y-%H:%M:%S")
    
    # Set the message to send
    message = "\Subject = " + currentstr + "\n\n\n" + "Total is " + str(total)
    
    # Send the message
    context = ssl.create_default_context()
    with smtplib.SMTP_SSL(smtp_server, port, context=context) as server:
        server.login(sender_email, password)
        server.sendmail(sender_email, receiver_email, message)
    
    
    file.close()
    
